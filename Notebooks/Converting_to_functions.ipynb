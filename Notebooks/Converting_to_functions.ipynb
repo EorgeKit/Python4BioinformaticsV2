{
 "cells": [
  {
   "cell_type": "markdown",
   "id": "sorted-deficit",
   "metadata": {},
   "source": [
    "# This notebook is for converting all code statements into functions\n"
   ]
  },
  {
   "cell_type": "code",
   "execution_count": 1,
   "id": "united-momentum",
   "metadata": {},
   "outputs": [],
   "source": [
    "#Function to Calculate the % GC content in the trna sequence\n",
    "trna='AAGGGCTTAGCTTAATTAAAGTGGCTGATTTGCGTTCAGTTGATGCAGAGTGGGGTTTTGCAGTCCTTA'\n",
    "def per_GC(seq):\n",
    "    '''\n",
    "      computes the percentage content of Guanine and Cytosine combined in a given sequenc\n",
    "    '''\n",
    "    GC_count = seq.count('G')+seq.count('C')\n",
    "    print('GC_count = ',GC_count)\n",
    "    per_GC = (GC_count/len(seq))*100\n",
    "    print('per_GC = %.2f' %(per_GC),'%')\n"
   ]
  },
  {
   "cell_type": "code",
   "execution_count": 2,
   "id": "enhanced-winning",
   "metadata": {},
   "outputs": [],
   "source": [
    "#Function to calculate the %AT content in the trna sequence\n",
    "\n",
    "def per_AT(seq):\n",
    "    '''\n",
    "    computes the percentage content of Adenine and Thymine combined in a given sequence\n",
    "    '''\n",
    "    AT_count = seq.count('A')+seq.count('T')\n",
    "    print('AT_count = ',AT_count)\n",
    "    per_AT = (AT_count/len(seq))*100\n",
    "    print('per_AT = %.2f' %(per_AT),'%')\n",
    "    \n",
    "    "
   ]
  },
  {
   "cell_type": "code",
   "execution_count": 4,
   "id": "heavy-cleanup",
   "metadata": {},
   "outputs": [
    {
     "name": "stdout",
     "output_type": "stream",
     "text": [
      "GC_count =  30\n",
      "per_GC = 43.48 %\n",
      "AT_count =  39\n",
      "per_AT = 56.52 %\n"
     ]
    }
   ],
   "source": [
    "trna='AAGGGCTTAGCTTAATTAAAGTGGCTGATTTGCGTTCAGTTGATGCAGAGTGGGGTTTTGCAGTCCTTA'\n",
    "per_GC(trna)\n",
    "per_AT(trna)"
   ]
  },
  {
   "cell_type": "code",
   "execution_count": 7,
   "id": "honest-bandwidth",
   "metadata": {},
   "outputs": [],
   "source": [
    "#Function to  find the first, last and the 5th amino acids in the sequence\n",
    "def aa_pos(aaseq):\n",
    "    '''\n",
    "    prints the amino acid at first, fifth and last positions of the particular amino acid sequence\n",
    "    '''\n",
    "    aafirst = aaseq[0]\n",
    "    print('The firts amino acid is ',aafirst)\n",
    "    aalast = aaseq[-1]\n",
    "    print('The last amino acid is ',aalast)\n",
    "    aafifth = aaseq[4]\n",
    "    print('The 5th amino acid is ',aafifth)\n",
    "    "
   ]
  },
  {
   "cell_type": "code",
   "execution_count": 8,
   "id": "through-peeing",
   "metadata": {},
   "outputs": [
    {
     "name": "stdout",
     "output_type": "stream",
     "text": [
      "The firts amino acid is  M\n",
      "The last amino acid is  A\n",
      "The 5th amino acid is  D\n"
     ]
    }
   ],
   "source": [
    "aa = 'MNKMDLVADVAEKTDLSKAKATEVIDAVFA'\n",
    "aa_pos(aa)"
   ]
  },
  {
   "cell_type": "code",
   "execution_count": 14,
   "id": "seven-cornell",
   "metadata": {},
   "outputs": [],
   "source": [
    "#Function to Find the first restriction site \"TCCGGA\" in the given sequence\n",
    "def res_site(seq):\n",
    "    '''\n",
    "    finds the position where the first restriction site \"TCCGGA\" begins and prints it\n",
    "    '''\n",
    "    firstpos = seq.find('TCCGGA')\n",
    "    print('The restriction site is from position:',firstpos)\n",
    "    \n",
    "\n",
    "    "
   ]
  },
  {
   "cell_type": "code",
   "execution_count": 15,
   "id": "talented-official",
   "metadata": {},
   "outputs": [
    {
     "name": "stdout",
     "output_type": "stream",
     "text": [
      "The restriction site is from position: 27\n"
     ]
    }
   ],
   "source": [
    "dna= 'AAAAATCCCGAGGCGGCTATATAGGGCTCCGGAGGCGTAATATAAAA'\n",
    "res_site(dna)"
   ]
  },
  {
   "cell_type": "code",
   "execution_count": 19,
   "id": "sitting-flower",
   "metadata": {},
   "outputs": [],
   "source": [
    "# Function to find the reverse complement of a given sequence\n",
    "#Using strings\n",
    "def rev_comp(seq):\n",
    "    '''\n",
    "    reverses the sequense stored as string and reverses the nucleotides to complemntary of complementary strands the prints it \n",
    "    '''\n",
    "    reversed_seq = seq[::-1]\n",
    "    reversed_seq = reversed_seq.replace('A','t').replace('C','g').replace('G','c').replace('G','c').replace('T','a')\n",
    "    print(reversed_seq.upper())"
   ]
  },
  {
   "cell_type": "code",
   "execution_count": 20,
   "id": "mature-federation",
   "metadata": {},
   "outputs": [
    {
     "name": "stdout",
     "output_type": "stream",
     "text": [
      "CTTTTATATTACGCCTCCGGAGCCCTATATAGCCGCCTCGGGATTTTT\n"
     ]
    }
   ],
   "source": [
    "dna = 'AAAAATCCCGAGGCGGCTATATAGGGCTCCGGAGGCGTAATATAAAAG'\n",
    "rev_comp(dna)"
   ]
  },
  {
   "cell_type": "code",
   "execution_count": 47,
   "id": "vocational-triumph",
   "metadata": {},
   "outputs": [],
   "source": [
    "#Using conditionals\n",
    "def comp_dna(seq):\n",
    "    '''\n",
    "    reverses the sequense and reverses the nucleotides to complemntary of complementary strand and prints the complimentary strands\n",
    "    '''\n",
    "    comp=[]\n",
    "    for base in seq:\n",
    "        if base == 'A':\n",
    "            comp.append('T')\n",
    "        elif base == 'C':\n",
    "            comp.append('G')\n",
    "        elif base == 'T':\n",
    "            comp.append('A')\n",
    "        else:\n",
    "            comp.append('C')\n",
    "    print(comp)\n",
    "    compl= ''\n",
    "    compl= ''.join(comp)\n",
    "    print(compl)"
   ]
  },
  {
   "cell_type": "code",
   "execution_count": 48,
   "id": "guided-officer",
   "metadata": {},
   "outputs": [
    {
     "name": "stdout",
     "output_type": "stream",
     "text": [
      "['T', 'T', 'T', 'T', 'T', 'A', 'G', 'G', 'G', 'C', 'T', 'C', 'C', 'G', 'C', 'C', 'G', 'A', 'T', 'A', 'T', 'A', 'T', 'C', 'C', 'C', 'G', 'A', 'G', 'G', 'C', 'C', 'T', 'C', 'C', 'G', 'C', 'A', 'T', 'T', 'A', 'T', 'A', 'T', 'T', 'T', 'T']\n",
      "TTTTTAGGGCTCCGCCGATATATCCCGAGGCCTCCGCATTATATTTT\n"
     ]
    }
   ],
   "source": [
    "dna='AAAAATCCCGAGGCGGCTATATAGGGCTCCGGAGGCGTAATATAAAA'\n",
    "comp_dna(dna)"
   ]
  },
  {
   "cell_type": "code",
   "execution_count": 32,
   "id": "sunrise-shopping",
   "metadata": {},
   "outputs": [],
   "source": [
    "#Using dictionaries\n",
    "def rev_strand(seq):\n",
    "    '''\n",
    "    reverses the given sequence and prints its complimentary strand\n",
    "    '''\n",
    "    rev_dna_dict = {'A':'T', 'C':'G', 'G':'C', 'T':'A'}\n",
    "    comp_seq = ''\n",
    "    for nuc in seq:\n",
    "        comp_seq = rev_dna_dict[nuc] + comp_seq\n",
    "    print(comp_seq)"
   ]
  },
  {
   "cell_type": "code",
   "execution_count": 33,
   "id": "defined-niagara",
   "metadata": {},
   "outputs": [
    {
     "name": "stdout",
     "output_type": "stream",
     "text": [
      "CTTTTATATTACGCCTCCGGAGCCCTATATAGCCGCCTCGGGATTTTT\n"
     ]
    }
   ],
   "source": [
    "dna = 'AAAAATCCCGAGGCGGCTATATAGGGCTCCGGAGGCGTAATATAAAAG'\n",
    "rev_strand(dna)"
   ]
  },
  {
   "cell_type": "code",
   "execution_count": 45,
   "id": "armed-karaoke",
   "metadata": {},
   "outputs": [],
   "source": [
    "#Function to translate a given dna sequence to amino acid sequence\n",
    "def dna2aa(seq):\n",
    "    mrna = seq.replace('T','U')\n",
    "    print(mrna)\n",
    "    gen_code = {\"UUU\":\"F\", \"UUC\":\"F\", \"UUA\":\"L\", \"UUG\":\"L\",\n",
    "    \"UCU\":\"S\", \"UCC\":\"S\", \"UCA\":\"S\", \"UCG\":\"S\",\n",
    "    \"UAU\":\"Y\", \"UAC\":\"Y\", \"UAA\":\"*\", \"UAG\":\"*\",\n",
    "    \"UGU\":\"C\", \"UGC\":\"C\", \"UGA\":\"*\", \"UGG\":\"W\",\n",
    "    \"CUU\":\"L\", \"CUC\":\"L\", \"CUA\":\"L\", \"CUG\":\"L\",\n",
    "    \"CCU\":\"P\", \"CCC\":\"P\", \"CCA\":\"P\", \"CCG\":\"P\",\n",
    "    \"CAU\":\"H\", \"CAC\":\"H\", \"CAA\":\"Q\", \"CAG\":\"Q\",\n",
    "    \"CGU\":\"R\", \"CGC\":\"R\", \"CGA\":\"R\", \"CGG\":\"R\",\n",
    "    \"AUU\":\"I\", \"AUC\":\"I\", \"AUA\":\"I\", \"AUG\":\"M\",\n",
    "    \"ACU\":\"T\", \"ACC\":\"T\", \"ACA\":\"T\", \"ACG\":\"T\",\n",
    "    \"AAU\":\"N\", \"AAC\":\"N\", \"AAA\":\"K\", \"AAG\":\"K\",\n",
    "    \"AGU\":\"S\", \"AGC\":\"S\", \"AGA\":\"R\", \"AGG\":\"R\",\n",
    "    \"GUU\":\"V\", \"GUC\":\"V\", \"GUA\":\"V\", \"GUG\":\"V\",\n",
    "    \"GCU\":\"A\", \"GCC\":\"A\", \"GCA\":\"A\", \"GCG\":\"A\",\n",
    "    \"GAU\":\"D\", \"GAC\":\"D\", \"GAA\":\"E\", \"GAG\":\"E\",\n",
    "    \"GGU\":\"G\", \"GGC\":\"G\", \"GGA\":\"G\", \"GGG\":\"G\",}\n",
    "    protein = ''\n",
    "    for i in range(0,len(mrna),3):\n",
    "        codon = mrna[i:i+3]\n",
    "        if len(codon) == 3:\n",
    "            aa = gen_code[codon]\n",
    "            protein += aa\n",
    "    print(protein)\n",
    "    \n",
    "#     protein = []\n",
    "#     for i in range(0,len(mrna),3):\n",
    "#         codon = mrna[i:i+3]\n",
    "#         if len(codon) == 3:\n",
    "#             aa = gen_code[codon]\n",
    "#             protein = protein.append(aa)\n",
    "#     print(protein)"
   ]
  },
  {
   "cell_type": "code",
   "execution_count": 46,
   "id": "valuable-catalog",
   "metadata": {},
   "outputs": [
    {
     "name": "stdout",
     "output_type": "stream",
     "text": [
      "AAAAAUCCCGAGGCGGCUAUAUAGGGCUCCGGAGGCGUAAUAUAAAA\n",
      "KNPEAAI*GSGGVI*\n"
     ]
    }
   ],
   "source": [
    "dna= 'AAAAATCCCGAGGCGGCTATATAGGGCTCCGGAGGCGTAATATAAAA'\n",
    "dna2aa(dna)"
   ]
  },
  {
   "cell_type": "code",
   "execution_count": null,
   "id": "defined-guard",
   "metadata": {},
   "outputs": [],
   "source": []
  }
 ],
 "metadata": {
  "kernelspec": {
   "display_name": "Python 3",
   "language": "python",
   "name": "python3"
  },
  "language_info": {
   "codemirror_mode": {
    "name": "ipython",
    "version": 3
   },
   "file_extension": ".py",
   "mimetype": "text/x-python",
   "name": "python",
   "nbconvert_exporter": "python",
   "pygments_lexer": "ipython3",
   "version": "3.9.2"
  }
 },
 "nbformat": 4,
 "nbformat_minor": 5
}
