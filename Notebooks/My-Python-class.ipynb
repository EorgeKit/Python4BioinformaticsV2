{
 "cells": [
  {
   "cell_type": "markdown",
   "id": "cf15f796-931e-4f47-b042-719d2c7d6b5e",
   "metadata": {
    "tags": []
   },
   "source": [
    "# 1.My Python class Notebook"
   ]
  },
  {
   "cell_type": "markdown",
   "id": "e8cba2a4-699f-46f8-b356-0fb6469155e2",
   "metadata": {},
   "source": [
    "### Hello I will document my python learning journey"
   ]
  },
  {
   "cell_type": "code",
   "execution_count": null,
   "id": "a40f6f2d-6456-4f8c-a742-9865818c957f",
   "metadata": {},
   "outputs": [],
   "source": []
  }
 ],
 "metadata": {
  "kernelspec": {
   "display_name": "Python 3 (ipykernel)",
   "language": "python",
   "name": "python3"
  },
  "language_info": {
   "codemirror_mode": {
    "name": "ipython",
    "version": 3
   },
   "file_extension": ".py",
   "mimetype": "text/x-python",
   "name": "python",
   "nbconvert_exporter": "python",
   "pygments_lexer": "ipython3",
   "version": "3.9.7"
  }
 },
 "nbformat": 4,
 "nbformat_minor": 5
}
